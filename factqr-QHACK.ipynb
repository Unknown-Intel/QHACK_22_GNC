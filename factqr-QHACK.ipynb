{
 "cells": [
  {
   "cell_type": "markdown",
   "metadata": {},
   "source": [
    "# factqr\n",
    "\n",
    "\n",
    "## Finding Factors of a Composite Number\n",
    "-----------------------------------------------\n",
    "\n",
    "Composite numbers are numbers that are made up of some power of primes. For example;\n",
    "\n",
    "Let $n = 3780$ so then $n$ in its composite form is :\n",
    "\n",
    "$n = 2^{2} * 3^{3} * 5^{1} * 7^{1}$\n",
    "\n",
    "Using current known methodolgy, like Shor's algorithm you are guaranteed at least one of the primes per run of the algorithm. By running Shor's factoring algorithm on $n$, the answers that will be returned is either $2,3,5,7$ but not the full composite form as shown above.\n",
    "\n",
    "Therefore, we propose a VQE algorithm that is able to find the composite prime expression of the number. First, we need to construct a Hamiltonian that describes the possible 'states'/ solution of the problem, to keep the problem simple we keep the number of primes small, $|primes| = 3$ and choose $n$ such that it can be expressed within the 3 prime numbers. The general structure of $n$ is :\n",
    "\n",
    "$n = 2^{x_{0}} * 3^{x_{1}} * 5^{x_{2}}$ where $x_{i} \\in Z^{+}$ but we need our variables $x$ to be binary valued so that it can be used on the quantum computer, so we convert $x$ into its binary expression:\n",
    "\n",
    "$n = 2^{2^{0}.x_{0,0} + 2^{1} .x_{0,1} + 2^{2}.x_{0,2} .....} * 3^{2^{0}.x_{1,0} + 2^{1}.x_{1,1} + 2^{2} .x_{1,2} .....} * 5^{2^{0}.x_{2,0} + 2^{1}.x_{2,1} + 2^{2}.x_{2,2} .....}$ \n",
    "\n",
    "Furthermore, lets limit the binary expression to $2^{0}.x_{0} + 2^{1} .x_{0}$ and order the $x_{i,j}$ to just $x_{i}$ to get :\n",
    "\n",
    "$n = 2^{2^{0}.x_{0} + 2^{1} .x_{1}} * 3^{2^{0}.x_{2} + 2^{1}.x_{3} } * 5^{2^{0}.x_{4} + 2^{1}.x_{5}}$ \n",
    "\n",
    "In order to construct the **Hamiltonian** we need to do the following:\n",
    "\n",
    "**1.** $\\ln$ both sides of the equation:\n",
    "\n",
    "$\\ln(n) = \\ln(2^{2^{0}.x_{0} + 2^{1} .x_{1}} * 3^{2^{0}.x_{2} + 2^{1}.x_{3} } * 5^{2^{0}.x_{4} + 2^{1}.x_{5}})$\n",
    "\n",
    "$ = \\ln(2^{2^{0}.x_{0} + 2^{1} .x_{1}})  + \\ln(3^{2^{0}.x_{2} + 2^{1}.x_{3}}) + \\ln( 5^{2^{0}.x_{4} + 2^{1}.x_{5}})$ and we can also bring the exponents down:\n",
    "$ = \\ln(2) * 2^{0}.x_{0} + 2^{1} .x_{1}  + \\ln(3) * 2^{0}.x_{0} + 2^{1} .x_{1} + \\ln(5) * 2^{0}.x_{0} + 2^{1} .x_{1}$\n",
    "\n",
    "\n",
    "**2.** With the full equation $ \\ln(n) = \\ln(2) * 2^{0}.x_{0} + 2^{1} .x_{1}  + \\ln(3) * 2^{0}.x_{0} + 2^{1} .x_{1} + \\ln(5) * 2^{0}.x_{0} + 2^{1} .x_{1}$ we substitute $x_{i}$ with $\\frac{1}{2}(I - Z_{i})$ to get :\n",
    "\n",
    "$ \\ln(n) = \\ln(2) * 2^{0}.\\frac{1}{2}(I - Z_{0}) + 2^{1} .\\frac{1}{2}(I - Z_{1})  + \\ln(3) * 2^{0}.\\frac{1}{2}(I - Z_{3}) + 2^{1} .\\frac{1}{2}(I - Z_{4}) + \\ln(5) * 2^{0}.\\frac{1}{2}(I - Z_{5}) + 2^{1}.\\frac{1}{2}(I - Z_{6})$\n",
    "\n",
    "\n",
    "\n",
    "**3.** Now we have a Hamiltonian that is Hermitian since all the values along the digonals are real and the transpose-conjugate is itself. However, for some combination of the Z variables would result in some of the diagonals being negative-valued so that when minimizing the expectation value has a high chance of producing negative-valued results which is clearly the wrong solution. So in order to prevent such issues, \n",
    "\n",
    "We let $X = \\ln(2) * 2^{0}.\\frac{1}{2}(I - Z_{0}) + 2^{1} .\\frac{1}{2}(I - Z_{1})  + \\ln(3) * 2^{0}.\\frac{1}{2}(I - Z_{3}) + 2^{1} .\\frac{1}{2}(I - Z_{4}) + \\ln(5) * 2^{0}.\\frac{1}{2}(I - Z_{5}) + 2^{1}.\\frac{1}{2}(I - Z_{6})$\n",
    "\n",
    "to get : $\\ln(n) = X$ Then we move $X$ to the other RHS of the equation to get $\\ln(n) - X$, where the correct combination of $Z_{i}$ will give the result 0, hence we can simply square the equation to remove the negative-valued diagonals and the correct solution will always be the 0 solution.\n",
    "\n",
    "$(\\ln(n) - X)^{2} = \\ln(n)^{2} - 2 * \\ln(n).X + X^{2}$ , \n",
    "\n",
    "where  $X = \\ln(2) * 2^{0}.\\frac{1}{2}(I - Z_{0}) + 2^{1} .\\frac{1}{2}(I - Z_{1})  + \\ln(3) * 2^{0}.\\frac{1}{2}(I - Z_{3}) + 2^{1} .\\frac{1}{2}(I - Z_{4}) + \\ln(5) * 2^{0}.\\frac{1}{2}(I - Z_{5}) + 2^{1}.\\frac{1}{2}(I - Z_{6})$\n",
    "\n",
    "**Viola!** Now we have a Hamiltonian, that describes our problem well, all we have to is use VQE to find the smallest Eigenvalue which in our case is 0 and the associated Eigenvector to find the composite form of the number.\n",
    "\n",
    "-----------------------------------------\n",
    "\n",
    "Let's begin coding it out, lets first import the required libraries:"
   ]
  },
  {
   "cell_type": "code",
   "execution_count": 1,
   "metadata": {},
   "outputs": [],
   "source": [
    "import pennylane as qml\n",
    "# import numpy as np\n",
    "from copy import deepcopy\n",
    "from qiskit import *\n",
    "import random\n",
    "import time\n",
    "from numpy import log as ln\n",
    "import warnings\n",
    "import math\n",
    "from pennylane import numpy as np\n",
    "from matplotlib import pyplot as plt\n",
    "from functools import partial\n",
    "from qiskit.algorithms.optimizers import ADAM, AQGD, COBYLA, SPSA, TNC, CG, L_BFGS_B, GSLS, NELDER_MEAD, NFT, P_BFGS, POWELL, SLSQP\n",
    "from qiskit.opflow.gradients import Gradient, NaturalGradient, QFI\n",
    "from qiskit.opflow import CircuitStateFn, StateFn, I, X, Y, Z, H, CX, Zero, One, OperatorBase\n",
    "from qiskit.utils import QuantumInstance, algorithm_globals\n",
    "from qiskit.algorithms import VQE\n",
    "from qiskit.circuit.library import TwoLocal\n",
    "from itertools import combinations as cm"
   ]
  },
  {
   "cell_type": "markdown",
   "metadata": {},
   "source": [
    "Let us begin by generating the Hamiltonian, which we will create using Qiskit then convert it to a Pennylane Hamiltonian as pennylane has limited arithmetic that can be done on the Hamiltonian class. Below are the functions to generate the Hamiltonian we need:"
   ]
  },
  {
   "cell_type": "code",
   "execution_count": 2,
   "metadata": {},
   "outputs": [],
   "source": [
    "# Utility Functions\n",
    "def genZ(index, size):\n",
    "    if index == 0:\n",
    "        z = Z\n",
    "    else:\n",
    "        z = I\n",
    "        \n",
    "    for i in range(1, size):\n",
    "        if index == i:\n",
    "            z = z ^ Z\n",
    "        else:\n",
    "            z = z ^ I\n",
    "    return z\n",
    "\n",
    "def genI(size):\n",
    "    i = I\n",
    "    for j in range(1, size):\n",
    "        i = i ^ I\n",
    "    return i\n",
    "\n",
    "# Hamiltonian Generator Functions\n",
    "def X_generator(primes, qbit_coeff, identity):\n",
    "    for i in range(len(primes)):\n",
    "        for j in range(len(qbit_coeff)):\n",
    "            if j == 0:\n",
    "                x_prime = qbit_coeff[j] * 1/2 * (identity - genZ(i * len(qbit_coeff) + j, len(primes) * len(qbit_coeff)))\n",
    "            else:\n",
    "                x_prime += qbit_coeff[j] * 1/2 * (identity - genZ(i * len(qbit_coeff) + j, len(primes) * len(qbit_coeff)))\n",
    "        \n",
    "        x_prime *= ln(primes[i])  \n",
    "        if i == 0:\n",
    "            x = x_prime\n",
    "        else:\n",
    "            x += x_prime\n",
    "\n",
    "    return x\n",
    "\n",
    "def hamiltonian(n, primes, qbit_coeff):\n",
    "    #Generate Hamiltonian according to number of primes\n",
    "    identity = genI(len(primes) * len(qbit_coeff))\n",
    "        \n",
    "    x = X_generator(primes, qbit_coeff, identity)\n",
    "    \n",
    "    lnn = float(ln(n))\n",
    "    \n",
    "    h = (lnn * identity - x)**2\n",
    "    \n",
    "    return h\n",
    "\n",
    "def genZ_pennylane(indexes, size):\n",
    "    \n",
    "    for i in range(size):\n",
    "        if i in indexes:\n",
    "            z = qml.PauliZ(i)\n",
    "        else:\n",
    "            z = qml.Identity(i)\n",
    "        if i == 0:\n",
    "            z_full = z\n",
    "        else:\n",
    "            z_full @= z\n",
    "    return z_full\n",
    "\n",
    "\n",
    "def genI_pennylane(size):\n",
    "    identity = qml.Identity(0)\n",
    "    for i in range(1, size):\n",
    "        identity @= qml.Identity(i)\n",
    "    return identity    "
   ]
  },
  {
   "cell_type": "markdown",
   "metadata": {},
   "source": [
    "**Setting up the problem** :\n",
    "\n",
    "Let us use $n = 20 = 2^{2} * 3^{0} * 5^{1}$ so the basis vector we are looking for is : $|2,0,1\\rangle = |010010\\rangle$.\n",
    "\n",
    "For this problem, we shall use **3 primes** and at most **2 bits** for the exponent for each prime, so the number of qubits required is **6**. "
   ]
  },
  {
   "cell_type": "code",
   "execution_count": 3,
   "metadata": {},
   "outputs": [
    {
     "name": "stdout",
     "output_type": "stream",
     "text": [
      "Total Resource Required =  6\n"
     ]
    }
   ],
   "source": [
    "primes = [2, 3, 5, 7, 11] # dit_coeff\n",
    "qbit_coeff = [2**0, 2**1, 2**2, 2**3, 2**4]\n",
    "\n",
    "n = 20\n",
    "layer = 2\n",
    "no_dits = 2\n",
    "no_primes = 3\n",
    "primes = primes[:no_primes]\n",
    "qbit_coeff = qbit_coeff[:no_dits]\n",
    "qubits = no_primes * no_dits\n",
    "print(\"Total Resource Required = \", no_dits * no_primes)"
   ]
  },
  {
   "cell_type": "markdown",
   "metadata": {},
   "source": [
    "Then we generate the Hamiltonian as shown above.... and get the eigenvalues. It can been seen that the lowest Eigenvalue is approximately 0 and thats the vector we are looking for. Then we convert it to a Pennylane Hamiltonian class."
   ]
  },
  {
   "cell_type": "code",
   "execution_count": 4,
   "metadata": {},
   "outputs": [
    {
     "data": {
      "text/plain": [
       "[tensor(8.8817842e-16+0.j, requires_grad=True),\n",
       " tensor(0.01110084+0.j, requires_grad=True),\n",
       " tensor(0.03324115+0.j, requires_grad=True),\n",
       " tensor(0.04979304+0.j, requires_grad=True),\n",
       " tensor(0.08276097+0.j, requires_grad=True),\n",
       " tensor(0.09006277+0.j, requires_grad=True),\n",
       " tensor(0.16440195+0.j, requires_grad=True),\n",
       " tensor(0.26094282+0.j, requires_grad=True),\n",
       " tensor(0.34549316+0.j, requires_grad=True),\n",
       " tensor(0.48045301+0.j, requires_grad=True),\n",
       " tensor(0.48045301+0.j, requires_grad=True),\n",
       " tensor(0.63761454+0.j, requires_grad=True),\n",
       " tensor(0.65760782+0.j, requires_grad=True),\n",
       " tensor(0.83958871+0.j, requires_grad=True),\n",
       " tensor(0.83958871+0.j, requires_grad=True),\n",
       " tensor(0.98654908+0.j, requires_grad=True),\n",
       " tensor(1.20694896+0.j, requires_grad=True),\n",
       " tensor(1.44955051+0.j, requires_grad=True),\n",
       " tensor(1.64079152+0.j, requires_grad=True),\n",
       " tensor(1.7470385+0.j, requires_grad=True),\n",
       " tensor(1.92181206+0.j, requires_grad=True),\n",
       " tensor(2.26224882+0.j, requires_grad=True),\n",
       " tensor(2.59029039+0.j, requires_grad=True),\n",
       " tensor(2.59029039+0.j, requires_grad=True),\n",
       " tensor(2.84394143+0.j, requires_grad=True),\n",
       " tensor(3.210402+0.j, requires_grad=True),\n",
       " tensor(3.35835482+0.j, requires_grad=True),\n",
       " tensor(3.59906424+0.j, requires_grad=True),\n",
       " tensor(3.64635258+0.j, requires_grad=True),\n",
       " tensor(4.05983418+0.j, requires_grad=True),\n",
       " tensor(4.82779584+0.j, requires_grad=True),\n",
       " tensor(5.30189811+0.j, requires_grad=True),\n",
       " tensor(5.30189811+0.j, requires_grad=True),\n",
       " tensor(5.6622398+0.j, requires_grad=True),\n",
       " tensor(5.85818188+0.j, requires_grad=True),\n",
       " tensor(6.37930518+0.j, requires_grad=True),\n",
       " tensor(6.7739936+0.j, requires_grad=True),\n",
       " tensor(7.33353589+0.j, requires_grad=True),\n",
       " tensor(8.3542489+0.j, requires_grad=True),\n",
       " tensor(8.59189681+0.j, requires_grad=True),\n",
       " tensor(8.97441185+0.j, requires_grad=True),\n",
       " tensor(9.69397758+0.j, requires_grad=True),\n",
       " tensor(10.36116158+0.j, requires_grad=True),\n",
       " tensor(10.86254065+0.j, requires_grad=True),\n",
       " tensor(11.56814363+0.j, requires_grad=True),\n",
       " tensor(12.38322318+0.j, requires_grad=True),\n",
       " tensor(13.1358472+0.j, requires_grad=True),\n",
       " tensor(14.49067931+0.j, requires_grad=True),\n",
       " tensor(15.30392399+0.j, requires_grad=True),\n",
       " tensor(15.91199372+0.j, requires_grad=True),\n",
       " tensor(16.23933673+0.j, requires_grad=True),\n",
       " tensor(17.7420189+0.j, requires_grad=True),\n",
       " tensor(18.64070361+0.j, requires_grad=True),\n",
       " tensor(20.24828707+0.j, requires_grad=True),\n",
       " tensor(22.30628713+0.j, requires_grad=True),\n",
       " tensor(24.06172065+0.j, requires_grad=True),\n",
       " tensor(25.10646605+0.j, requires_grad=True),\n",
       " tensor(26.30067456+0.j, requires_grad=True),\n",
       " tensor(29.33414357+0.j, requires_grad=True),\n",
       " tensor(31.34232843+0.j, requires_grad=True),\n",
       " tensor(33.89062499+0.j, requires_grad=True),\n",
       " tensor(37.32290603+0.j, requires_grad=True),\n",
       " tensor(42.44148144+0.j, requires_grad=True),\n",
       " tensor(51.95324393+0.j, requires_grad=True)]"
      ]
     },
     "execution_count": 4,
     "metadata": {},
     "output_type": "execute_result"
    }
   ],
   "source": [
    "# generate Hamiltonian and the 1st eignvalue shown is the solution.\n",
    "H = hamiltonian(n, primes, qbit_coeff)\n",
    "strings = H.primitive\n",
    "sorted(np.linalg.eigvals(H.to_matrix()))"
   ]
  },
  {
   "cell_type": "code",
   "execution_count": 5,
   "metadata": {},
   "outputs": [
    {
     "name": "stdout",
     "output_type": "stream",
     "text": [
      "  (-6.779157848035609) [Z5]\n",
      "+ (-4.6274951404673885) [Z3]\n",
      "+ (-3.3895789240178047) [Z4]\n",
      "+ (-2.919624368628206) [Z1]\n",
      "+ (-2.313747570233694) [Z2]\n",
      "+ (-1.459812184314103) [Z0]\n",
      "+ (9.782620186091165) [I0]\n",
      "+ (0.3807500052094045) [Z0 Z2]\n",
      "+ (0.4804530139182014) [Z0 Z1]\n",
      "+ (0.5577886756449904) [Z0 Z4]\n",
      "+ (0.761500010418809) [Z0 Z3]\n",
      "+ (0.761500010418809) [Z1 Z2]\n",
      "+ (0.8840741342242259) [Z2 Z4]\n",
      "+ (1.1155773512899807) [Z0 Z5]\n",
      "+ (1.1155773512899807) [Z1 Z4]\n",
      "+ (1.206948960812582) [Z2 Z3]\n",
      "+ (1.523000020837618) [Z1 Z3]\n",
      "+ (1.7681482684484517) [Z2 Z5]\n",
      "+ (1.7681482684484517) [Z3 Z4]\n",
      "+ (2.2311547025799614) [Z1 Z5]\n",
      "+ (2.5902903939802346) [Z4 Z5]\n",
      "+ (3.5362965368969035) [Z3 Z5]\n"
     ]
    }
   ],
   "source": [
    "H_String = None\n",
    "for i in range(len(strings)):\n",
    "    gate = strings[i].paulis[0]\n",
    "    coeff = strings[i].coeffs[0].real\n",
    "    indexes = [pos for pos,char in enumerate(str(strings[i].paulis[0])) if char == 'Z']\n",
    "    if len(indexes) == 0:\n",
    "        temp = genI_pennylane(qubits)\n",
    "    else:\n",
    "        temp = genZ_pennylane(indexes, qubits)\n",
    "    if i == 0:\n",
    "        H_String = coeff * temp\n",
    "    else:\n",
    "        H_String += coeff * temp\n",
    "print(H_String)"
   ]
  },
  {
   "cell_type": "markdown",
   "metadata": {},
   "source": [
    "Now that the Hamiltonian is generated,we can now use VQE to find the eigenvector that has the mimimum eigenvalue, for this example we shall keep it simple and use Pennylane's SimplifedTwoDesign anstaz to aid us with the heuristic. "
   ]
  },
  {
   "cell_type": "code",
   "execution_count": 6,
   "metadata": {},
   "outputs": [],
   "source": [
    "dev = qml.device(\"default.qubit\", wires=qubits)"
   ]
  },
  {
   "cell_type": "code",
   "execution_count": 7,
   "metadata": {},
   "outputs": [
    {
     "name": "stdout",
     "output_type": "stream",
     "text": [
      "expectation =  [[tensor(8.7373038, requires_grad=True)]]\n"
     ]
    }
   ],
   "source": [
    "def circuit(weights):\n",
    "    shapes = qml.SimplifiedTwoDesign.shape(n_layers=layer, n_wires=qubits)\n",
    "    params_0 = np.reshape(weights[0: qubits], shapes[0])\n",
    "    params_1 = np.reshape(weights[qubits: len(weights)], shapes[1])\n",
    "    qml.SimplifiedTwoDesign(initial_layer_weights=params_0, weights=params_1, wires=range(qubits))\n",
    "\n",
    "@qml.qnode(dev)\n",
    "def cost_fn(weights):\n",
    "    circuit(weights)\n",
    "    return qml.expval(H_String)\n",
    "\n",
    "# def wrapper(weights):\n",
    "#     res = np.log(cost_fn(weights))\n",
    "#     return res\n",
    "\n",
    "@qml.qnode(dev)\n",
    "def get_probs(weights):\n",
    "    circuit(weights)\n",
    "    return qml.probs(wires=range(qubits))\n",
    "\n",
    "# shape = qml.SimplifiedTwoDesign.shape(n_layers=layer, n_wires=qubits)\n",
    "weights = np.array([np.random.random() for _ in range(qubits + (((qubits-1)*2)*layer))], requires_grad=True)\n",
    "# l = 1\n",
    "# for s in shape:\n",
    "#     l *= s\n",
    "# weights = np.array([np.random.random() for _ in range(l)], requires_grad=True)\n",
    "\n",
    "#Test to see if the functions works(if at all)\n",
    "expectation = [cost_fn(weights)]\n",
    "print(\"expectation = \", [expectation])"
   ]
  },
  {
   "cell_type": "markdown",
   "metadata": {},
   "source": [
    "The next step is just to use a optimizer to find the mimimum eigenvector with regards to the problem and hope the optimizer manages to find the solution......"
   ]
  },
  {
   "cell_type": "code",
   "execution_count": 8,
   "metadata": {},
   "outputs": [
    {
     "name": "stdout",
     "output_type": "stream",
     "text": [
      "Step = 0,  Expectation = 5.46909637\n",
      "Step = 10,  Expectation = 0.30943009\n",
      "Step = 20,  Expectation = 0.07900430\n",
      "Step = 30,  Expectation = 0.06776336\n",
      "Step = 40,  Expectation = 0.02245954\n",
      "Step = 50,  Expectation = 0.01461069\n",
      "Step = 60,  Expectation = 0.00504090\n",
      "Step = 70,  Expectation = 0.00180870\n",
      "Step = 80,  Expectation = 0.00103121\n",
      "Step = 90,  Expectation = 0.00068079\n",
      "\n",
      "Final value of expectation = 0.00049871\n"
     ]
    }
   ],
   "source": [
    "max_iter = 100\n",
    "conv_tol = 1e-05\n",
    "opt_pennylane =  qml.AdamOptimizer(stepsize=0.1)\n",
    "\n",
    "angle = [weights]\n",
    "\n",
    "for i in range(max_iter):\n",
    "\n",
    "    weights, prev_expectation = opt_pennylane.step_and_cost(cost_fn, weights)\n",
    "    expectation.append(cost_fn(weights))\n",
    "    angle.append(weights)\n",
    "    \n",
    "    conv = np.abs(expectation[-1] - prev_expectation)\n",
    "    \n",
    "    if i % 10 == 0:\n",
    "        print(f\"Step = {i},  Expectation = {expectation[-1]:.8f}\")\n",
    "    \n",
    "#     if conv <= conv_tol:\n",
    "#         break\n",
    "\n",
    "print(\"\\n\" f\"Final value of expectation = {expectation[-1]:.8f}\")"
   ]
  },
  {
   "cell_type": "markdown",
   "metadata": {},
   "source": [
    "Now that we have the optimal parameters we can now find the associated eigenvector by find the basis vector with the highest probability "
   ]
  },
  {
   "cell_type": "code",
   "execution_count": 9,
   "metadata": {},
   "outputs": [
    {
     "data": {
      "image/png": "[encoded data removed]",
      "text/plain": [
       "<Figure size 432x288 with 1 Axes>"
      ]
     },
     "metadata": {
      "needs_background": "light"
     },
     "output_type": "display_data"
    }
   ],
   "source": [
    "probs = np.array(get_probs(angle[-1])).tolist()\n",
    "from matplotlib import pyplot as plt\n",
    "plt.bar(range(2**qubits), probs)\n",
    "plt.show()"
   ]
  },
  {
   "cell_type": "code",
   "execution_count": 10,
   "metadata": {},
   "outputs": [
    {
     "name": "stdout",
     "output_type": "stream",
     "text": [
      "Highest Probability:  0.999663195759012 \n",
      "Answer:  20  Deviation:  0\n",
      "n in its estimated composite form =  2^2 3^0 5^1 \n"
     ]
    }
   ],
   "source": [
    "highest_prob = max(probs)\n",
    "bitstring = str(format(probs.index(highest_prob), \"b\"))\n",
    "while (len(bitstring)<qubits):\n",
    "    bitstring = '0' + bitstring\n",
    "answer = 1\n",
    "prime_index = 0\n",
    "exp_list = []\n",
    "for i in range(0, len(bitstring), no_dits):\n",
    "    exp = int(bitstring[i: i + no_dits][::-1], 2)\n",
    "    exp_list.append(exp)\n",
    "    answer *= primes[prime_index] ** exp\n",
    "    prime_index += 1\n",
    "print(\"Highest Probability: \", highest_prob, \"\\nAnswer: \", answer, \" Deviation: \",  n-answer)\n",
    "\n",
    "# Reconstruct the exponent\n",
    "exp_str = \"\"\n",
    "for i in range(no_primes):\n",
    "    exp_str += str(primes[i]) + \"^\" + str(exp_list[i]) + \" \"\n",
    "\n",
    "print(\"n in its estimated composite form = \", exp_str)"
   ]
  },
  {
   "cell_type": "markdown",
   "metadata": {},
   "source": [
    "Simple composite numbers such as 20 can be found easily with our heurisitic.\n",
    "\n",
    "Let us try a larger example, $n = 4200 = 2^{3} * 3^{1} * 5^{2} * 7^{1}$ so the basis vector we are looking for is : $|3,1,2,1\\rangle = |11011010\\rangle$.\n",
    "\n",
    "For this problem, we only need **4 primes** and at most **2 bits** for the exponent for each prime, so the number of qubits required is **8**. \n",
    "We will re-initialize everything and run the entire process in the cell below:"
   ]
  },
  {
   "cell_type": "code",
   "execution_count": 12,
   "metadata": {},
   "outputs": [
    {
     "name": "stdout",
     "output_type": "stream",
     "text": [
      "Step = 0,  Expectation = 12.11331420\n",
      "Step = 10,  Expectation = 8.69402482\n",
      "Step = 20,  Expectation = 5.10858756\n",
      "Step = 30,  Expectation = 3.31553521\n",
      "Step = 40,  Expectation = 1.99921076\n",
      "Step = 50,  Expectation = 1.23371542\n",
      "Step = 60,  Expectation = 0.55606368\n",
      "Step = 70,  Expectation = 0.23053269\n",
      "Step = 80,  Expectation = 0.18585970\n",
      "Step = 90,  Expectation = 0.12143843\n",
      "Step = 100,  Expectation = 0.11305281\n",
      "Step = 110,  Expectation = 0.11495876\n",
      "Step = 120,  Expectation = 0.10975141\n",
      "Step = 130,  Expectation = 0.10860937\n",
      "Step = 140,  Expectation = 0.10740557\n",
      "Step = 150,  Expectation = 0.10550101\n",
      "Step = 160,  Expectation = 0.10374914\n",
      "Step = 170,  Expectation = 0.10220599\n",
      "Step = 180,  Expectation = 0.10069142\n",
      "Step = 190,  Expectation = 0.09921384\n",
      "Step = 200,  Expectation = 0.09780899\n",
      "Step = 210,  Expectation = 0.09651286\n",
      "Step = 220,  Expectation = 0.09538389\n",
      "Step = 230,  Expectation = 0.09451246\n",
      "Step = 240,  Expectation = 0.09371623\n",
      "Step = 250,  Expectation = 0.09300940\n",
      "Step = 260,  Expectation = 0.09380301\n",
      "Step = 270,  Expectation = 0.09202046\n",
      "Step = 280,  Expectation = 0.09119622\n",
      "Step = 290,  Expectation = 0.09089509\n",
      "Step = 300,  Expectation = 0.09024920\n",
      "Step = 310,  Expectation = 0.08986005\n",
      "Step = 320,  Expectation = 0.08931988\n",
      "Step = 330,  Expectation = 0.08897163\n",
      "Step = 340,  Expectation = 0.08868338\n",
      "Step = 350,  Expectation = 0.08823392\n",
      "Step = 360,  Expectation = 0.08799262\n",
      "Step = 370,  Expectation = 0.08821445\n",
      "Step = 380,  Expectation = 0.08713018\n",
      "Step = 390,  Expectation = 0.08636481\n",
      "Step = 400,  Expectation = 0.08774854\n",
      "Step = 410,  Expectation = 0.08675260\n",
      "Step = 420,  Expectation = 0.08674537\n",
      "Step = 430,  Expectation = 0.08658020\n",
      "Step = 440,  Expectation = 0.08657432\n",
      "Step = 450,  Expectation = 0.08649958\n",
      "Step = 460,  Expectation = 0.08639169\n",
      "Step = 470,  Expectation = 0.08633442\n",
      "Step = 480,  Expectation = 0.08626576\n",
      "Step = 490,  Expectation = 0.08619450\n",
      "Step = 500,  Expectation = 0.08613758\n",
      "Step = 510,  Expectation = 0.08608857\n",
      "Step = 520,  Expectation = 0.08604869\n",
      "Step = 530,  Expectation = 0.08603503\n",
      "Step = 540,  Expectation = 0.08622703\n",
      "Step = 550,  Expectation = 0.08684952\n",
      "Step = 560,  Expectation = 0.08640706\n",
      "Step = 570,  Expectation = 0.08640138\n",
      "Step = 580,  Expectation = 0.08632911\n",
      "Step = 590,  Expectation = 0.08621388\n",
      "Step = 600,  Expectation = 0.08623119\n",
      "Step = 610,  Expectation = 0.08627361\n",
      "Step = 620,  Expectation = 0.08634557\n",
      "Step = 630,  Expectation = 0.08635878\n",
      "Step = 640,  Expectation = 0.08628820\n",
      "Step = 650,  Expectation = 0.08672621\n",
      "Step = 660,  Expectation = 0.08738304\n",
      "Step = 670,  Expectation = 0.08671830\n",
      "Step = 680,  Expectation = 0.08747813\n",
      "Step = 690,  Expectation = 0.08761492\n",
      "Step = 700,  Expectation = 0.08762984\n",
      "Step = 710,  Expectation = 0.08782187\n",
      "Step = 720,  Expectation = 0.08801782\n",
      "Step = 730,  Expectation = 0.08824964\n",
      "Step = 740,  Expectation = 0.08854588\n",
      "Step = 750,  Expectation = 0.08890697\n",
      "Step = 760,  Expectation = 0.08929255\n",
      "Step = 770,  Expectation = 0.08975585\n",
      "Step = 780,  Expectation = 0.09067114\n",
      "Step = 790,  Expectation = 0.13004271\n",
      "Step = 800,  Expectation = 0.04450359\n",
      "Step = 810,  Expectation = 6.48792192\n",
      "Step = 820,  Expectation = 2.27395074\n",
      "Step = 830,  Expectation = 0.20817806\n",
      "Step = 840,  Expectation = 0.12875486\n",
      "Step = 850,  Expectation = 0.73965392\n",
      "Step = 860,  Expectation = 0.65158391\n",
      "Step = 870,  Expectation = 0.68301686\n",
      "Step = 880,  Expectation = 3.96986123\n",
      "Step = 890,  Expectation = 0.38988278\n",
      "Step = 900,  Expectation = 0.26746806\n",
      "Step = 910,  Expectation = 0.10640673\n",
      "Step = 920,  Expectation = 0.21320168\n",
      "Step = 930,  Expectation = 0.27354141\n",
      "Step = 940,  Expectation = 2.12639347\n",
      "Step = 950,  Expectation = 0.78549914\n",
      "Step = 960,  Expectation = 0.18581844\n",
      "Step = 970,  Expectation = 0.38073763\n",
      "Step = 980,  Expectation = 0.22825468\n",
      "Step = 990,  Expectation = 0.07811864\n",
      "\n",
      "Final value of expectation = 0.19041874\n"
     ]
    }
   ],
   "source": [
    "primes = [2, 3, 5, 7, 11] # dit_coeff\n",
    "qbit_coeff = [2**0, 2**1, 2**2, 2**3, 2**4]\n",
    "\n",
    "n = 4200\n",
    "layer = 8\n",
    "no_dits = 2\n",
    "no_primes = 4\n",
    "primes = primes[:no_primes]\n",
    "qbit_coeff = qbit_coeff[:no_dits]\n",
    "qubits = no_primes * no_dits\n",
    "\n",
    "H = hamiltonian(n, primes, qbit_coeff)\n",
    "strings = H.primitive\n",
    "\n",
    "H_String = None\n",
    "for i in range(len(strings)):\n",
    "    gate = strings[i].paulis[0]\n",
    "    coeff = strings[i].coeffs[0].real\n",
    "    indexes = [pos for pos,char in enumerate(str(strings[i].paulis[0])) if char == 'Z']\n",
    "    if len(indexes) == 0:\n",
    "        temp = genI_pennylane(qubits)\n",
    "    else:\n",
    "        temp = genZ_pennylane(indexes, qubits)\n",
    "    if i == 0:\n",
    "        H_String = coeff * temp\n",
    "    else:\n",
    "        H_String += coeff * temp\n",
    "\n",
    "dev = qml.device(\"default.qubit\", wires=qubits)\n",
    "\n",
    "def circuit_2(weights):\n",
    "    shape = qml.QAOAEmbedding.shape(n_layers=layer, n_wires=qubits)\n",
    "    params = np.reshape(weights, shape)\n",
    "    qml.QAOAEmbedding(features=[], weights=params, wires=range(qubits))\n",
    "    \n",
    "@qml.qnode(dev)    \n",
    "def cost_fn(weights):\n",
    "    circuit_2(weights)\n",
    "    return qml.expval(H_String)\n",
    "\n",
    "def wrapper(weights):\n",
    "    res = np.log(cost_fn(weights))\n",
    "    return res\n",
    "\n",
    "@qml.qnode(dev)\n",
    "def get_probs(weights):\n",
    "    circuit_2(weights)\n",
    "    return qml.probs(wires=range(qubits))\n",
    "\n",
    "np.random.seed(1)\n",
    "shape = qml.QAOAEmbedding.shape(n_layers=layer, n_wires=qubits)\n",
    "l = 1\n",
    "for s in shape:\n",
    "    l *= s\n",
    "weights = np.array([np.random.random() for _ in range(l)], requires_grad=True)\n",
    "\n",
    "#Test to see if the functions works(if at all)\n",
    "expectation = [wrapper(weights)]\n",
    "\n",
    "# Start the training process\n",
    "max_iter = 1000\n",
    "conv_tol = 1e-06\n",
    "opt_pennylane =  qml.MomentumOptimizer(stepsize=0.01)\n",
    "\n",
    "angle = [weights]\n",
    "\n",
    "for i in range(max_iter):\n",
    "\n",
    "    weights, prev_expectation = opt_pennylane.step_and_cost(wrapper, weights)\n",
    "    expectation.append(cost_fn(weights))\n",
    "    angle.append(weights)\n",
    "    \n",
    "    conv = np.abs(expectation[-1] - prev_expectation)\n",
    "    \n",
    "    if i % 10 == 0:\n",
    "        print(f\"Step = {i},  Expectation = {expectation[-1]:.8f}\")\n",
    "\n",
    "print(\"\\n\" f\"Final value of expectation = {expectation[-1]:.8f}\")"
   ]
  },
  {
   "cell_type": "code",
   "execution_count": 13,
   "metadata": {},
   "outputs": [
    {
     "data": {
      "image/png": "[encoded data removed]",
      "text/plain": [
       "<Figure size 432x288 with 1 Axes>"
      ]
     },
     "metadata": {
      "needs_background": "light"
     },
     "output_type": "display_data"
    }
   ],
   "source": [
    "probs = np.array(get_probs(angle[-1])).tolist()\n",
    "from matplotlib import pyplot as plt\n",
    "plt.bar(range(2**qubits), probs)\n",
    "plt.show()"
   ]
  },
  {
   "cell_type": "code",
   "execution_count": 14,
   "metadata": {},
   "outputs": [
    {
     "name": "stdout",
     "output_type": "stream",
     "text": [
      "Highest Probability:  0.9555123437280777 \n",
      "Answer:  4200  Deviation:  0\n",
      "n in its estimated composite form =  2^3 3^1 5^2 7^1 \n"
     ]
    }
   ],
   "source": [
    "highest_prob = max(probs)\n",
    "bitstring = str(format(probs.index(highest_prob), \"b\"))\n",
    "while (len(bitstring)<qubits):\n",
    "    bitstring = '0' + bitstring\n",
    "answer = 1\n",
    "prime_index = 0\n",
    "exp_list = []\n",
    "for i in range(0, len(bitstring), no_dits):\n",
    "    exp = int(bitstring[i: i + no_dits][::-1], 2)\n",
    "    exp_list.append(exp)\n",
    "    answer *= primes[prime_index] ** exp\n",
    "    prime_index += 1\n",
    "print(\"Highest Probability: \", highest_prob, \"\\nAnswer: \", answer, \" Deviation: \",  n-answer)\n",
    "\n",
    "# Reconstruct the exponent\n",
    "exp_str = \"\"\n",
    "for i in range(no_primes):\n",
    "    exp_str += str(primes[i]) + \"^\" + str(exp_list[i]) + \" \"\n",
    "\n",
    "print(\"n in its estimated composite form = \", exp_str)"
   ]
  },
  {
   "cell_type": "markdown",
   "metadata": {},
   "source": [
    "As you can see, it managed to get the solution(with help) and the combination of bit string that would reproduce the values.\n",
    "This method can used as a factoring machine as it is not limited by the primes and it can be substituted with any potential factors you would like, our solution provides a flexible means of finding factors of a given integer. However, like most other VQE problems currently larger numbers/problems might pose a problem to this heuristic as it would be more diffcult to find the 0 point. "
   ]
  }
 ],
 "metadata": {
  "kernelspec": {
   "display_name": "Python 3 (ipykernel)",
   "language": "python",
   "name": "python3"
  },
  "language_info": {
   "codemirror_mode": {
    "name": "ipython",
    "version": 3
   },
   "file_extension": ".py",
   "mimetype": "text/x-python",
   "name": "python",
   "nbconvert_exporter": "python",
   "pygments_lexer": "ipython3",
   "version": "3.9.7"
  }
 },
 "nbformat": 4,
 "nbformat_minor": 4
}
